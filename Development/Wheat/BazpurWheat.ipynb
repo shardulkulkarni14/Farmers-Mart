{
 "cells": [
  {
   "cell_type": "code",
   "execution_count": null,
   "metadata": {
    "colab": {},
    "colab_type": "code",
    "id": "C6oRhI1_O_hr"
   },
   "outputs": [],
   "source": []
  },
  {
   "cell_type": "code",
   "execution_count": null,
   "metadata": {
    "colab": {
     "base_uri": "https://localhost:8080/",
     "height": 34
    },
    "colab_type": "code",
    "id": "A58sJF_YUjQC",
    "outputId": "f340d330-d352-48fd-bfcc-94b0c86ba8aa"
   },
   "outputs": [
    {
     "name": "stdout",
     "output_type": "stream",
     "text": [
      "Drive already mounted at /content/drive; to attempt to forcibly remount, call drive.mount(\"/content/drive\", force_remount=True).\n"
     ]
    }
   ],
   "source": [
    "from google.colab import drive\n",
    "drive.mount('/content/drive')"
   ]
  },
  {
   "cell_type": "code",
   "execution_count": null,
   "metadata": {
    "colab": {},
    "colab_type": "code",
    "id": "DVXjtP_9UjyY"
   },
   "outputs": [],
   "source": [
    "import pandas as pd\n",
    "import numpy as np\n",
    "import matplotlib.pyplot as plt"
   ]
  },
  {
   "cell_type": "code",
   "execution_count": null,
   "metadata": {
    "colab": {
     "base_uri": "https://localhost:8080/",
     "height": 195
    },
    "colab_type": "code",
    "id": "VqKPoT8-U9H-",
    "outputId": "85fadfe9-f01d-487f-84f4-1c1c6722b81a"
   },
   "outputs": [
    {
     "data": {
      "text/html": [
       "<div>\n",
       "<style scoped>\n",
       "    .dataframe tbody tr th:only-of-type {\n",
       "        vertical-align: middle;\n",
       "    }\n",
       "\n",
       "    .dataframe tbody tr th {\n",
       "        vertical-align: top;\n",
       "    }\n",
       "\n",
       "    .dataframe thead th {\n",
       "        text-align: right;\n",
       "    }\n",
       "</style>\n",
       "<table border=\"1\" class=\"dataframe\">\n",
       "  <thead>\n",
       "    <tr style=\"text-align: right;\">\n",
       "      <th></th>\n",
       "      <th>Date</th>\n",
       "      <th>Price</th>\n",
       "    </tr>\n",
       "  </thead>\n",
       "  <tbody>\n",
       "    <tr>\n",
       "      <th>0</th>\n",
       "      <td>01-10-2019</td>\n",
       "      <td>2200</td>\n",
       "    </tr>\n",
       "    <tr>\n",
       "      <th>1</th>\n",
       "      <td>03-10-2019</td>\n",
       "      <td>2400</td>\n",
       "    </tr>\n",
       "    <tr>\n",
       "      <th>2</th>\n",
       "      <td>04-10-2019</td>\n",
       "      <td>2400</td>\n",
       "    </tr>\n",
       "    <tr>\n",
       "      <th>3</th>\n",
       "      <td>05-10-2019</td>\n",
       "      <td>2400</td>\n",
       "    </tr>\n",
       "    <tr>\n",
       "      <th>4</th>\n",
       "      <td>07-10-2019</td>\n",
       "      <td>2400</td>\n",
       "    </tr>\n",
       "  </tbody>\n",
       "</table>\n",
       "</div>"
      ],
      "text/plain": [
       "         Date  Price\n",
       "0  01-10-2019   2200\n",
       "1  03-10-2019   2400\n",
       "2  04-10-2019   2400\n",
       "3  05-10-2019   2400\n",
       "4  07-10-2019   2400"
      ]
     },
     "execution_count": 13,
     "metadata": {
      "tags": []
     },
     "output_type": "execute_result"
    }
   ],
   "source": [
    "data = pd.read_csv('/content/drive/My Drive/SIH-2020/BazpurRice.csv')\n",
    "data.head()"
   ]
  },
  {
   "cell_type": "code",
   "execution_count": null,
   "metadata": {
    "colab": {},
    "colab_type": "code",
    "id": "DtSbdkmEVKL2"
   },
   "outputs": [],
   "source": [
    "training_set = data.iloc[:, 1:2].values"
   ]
  },
  {
   "cell_type": "code",
   "execution_count": null,
   "metadata": {
    "colab": {},
    "colab_type": "code",
    "id": "t9DyZfn-VVj9"
   },
   "outputs": [],
   "source": [
    "from sklearn.preprocessing import MinMaxScaler\n",
    "sc = MinMaxScaler(feature_range = (0, 1))\n",
    "training_set_scaled = sc.fit_transform(training_set)"
   ]
  },
  {
   "cell_type": "code",
   "execution_count": null,
   "metadata": {
    "colab": {},
    "colab_type": "code",
    "id": "XkkEEiA4VcQH"
   },
   "outputs": [],
   "source": [
    "X_train = []\n",
    "y_train = []\n",
    "for i in range(60, 98):\n",
    "    X_train.append(training_set_scaled[i-60:i, 0])\n",
    "    y_train.append(training_set_scaled[i, 0])\n",
    "X_train, y_train = np.array(X_train), np.array(y_train)"
   ]
  },
  {
   "cell_type": "code",
   "execution_count": null,
   "metadata": {
    "colab": {},
    "colab_type": "code",
    "id": "RDS7cLR9VmAg"
   },
   "outputs": [],
   "source": [
    "\n",
    "X_train = np.reshape(X_train, (X_train.shape[0], X_train.shape[1], 1))"
   ]
  },
  {
   "cell_type": "code",
   "execution_count": null,
   "metadata": {
    "colab": {},
    "colab_type": "code",
    "id": "gq_iF1KQVviA"
   },
   "outputs": [],
   "source": [
    "from keras.models import Sequential\n",
    "from keras.layers import Dense\n",
    "from keras.layers import LSTM\n",
    "from keras.layers import Dropout"
   ]
  },
  {
   "cell_type": "code",
   "execution_count": null,
   "metadata": {
    "colab": {
     "base_uri": "https://localhost:8080/",
     "height": 1000
    },
    "colab_type": "code",
    "id": "Ohh8exfkVxN4",
    "outputId": "ab91a79a-2aa3-4c25-dc3d-a5802feab590"
   },
   "outputs": [
    {
     "name": "stdout",
     "output_type": "stream",
     "text": [
      "Epoch 1/100\n",
      "38/38 [==============================] - 3s 91ms/step - loss: 0.6529\n",
      "Epoch 2/100\n",
      "38/38 [==============================] - 0s 9ms/step - loss: 0.4776\n",
      "Epoch 3/100\n",
      "38/38 [==============================] - 0s 9ms/step - loss: 0.2567\n",
      "Epoch 4/100\n",
      "38/38 [==============================] - 0s 10ms/step - loss: 0.0458\n",
      "Epoch 5/100\n",
      "38/38 [==============================] - 0s 9ms/step - loss: 0.1948\n",
      "Epoch 6/100\n",
      "38/38 [==============================] - 0s 10ms/step - loss: 0.0690\n",
      "Epoch 7/100\n",
      "38/38 [==============================] - 0s 10ms/step - loss: 0.0346\n",
      "Epoch 8/100\n",
      "38/38 [==============================] - 0s 10ms/step - loss: 0.0629\n",
      "Epoch 9/100\n",
      "38/38 [==============================] - 0s 10ms/step - loss: 0.0941\n",
      "Epoch 10/100\n",
      "38/38 [==============================] - 0s 9ms/step - loss: 0.0709\n",
      "Epoch 11/100\n",
      "38/38 [==============================] - 0s 9ms/step - loss: 0.0507\n",
      "Epoch 12/100\n",
      "38/38 [==============================] - 0s 10ms/step - loss: 0.0381\n",
      "Epoch 13/100\n",
      "38/38 [==============================] - 0s 10ms/step - loss: 0.0494\n",
      "Epoch 14/100\n",
      "38/38 [==============================] - 0s 9ms/step - loss: 0.0387\n",
      "Epoch 15/100\n",
      "38/38 [==============================] - 0s 10ms/step - loss: 0.0413\n",
      "Epoch 16/100\n",
      "38/38 [==============================] - 0s 9ms/step - loss: 0.0415\n",
      "Epoch 17/100\n",
      "38/38 [==============================] - 0s 10ms/step - loss: 0.0297\n",
      "Epoch 18/100\n",
      "38/38 [==============================] - 0s 10ms/step - loss: 0.0300\n",
      "Epoch 19/100\n",
      "38/38 [==============================] - 0s 9ms/step - loss: 0.0396\n",
      "Epoch 20/100\n",
      "38/38 [==============================] - 0s 11ms/step - loss: 0.0300\n",
      "Epoch 21/100\n",
      "38/38 [==============================] - 0s 10ms/step - loss: 0.0343\n",
      "Epoch 22/100\n",
      "38/38 [==============================] - 0s 9ms/step - loss: 0.0318\n",
      "Epoch 23/100\n",
      "38/38 [==============================] - 0s 10ms/step - loss: 0.0317\n",
      "Epoch 24/100\n",
      "38/38 [==============================] - 0s 9ms/step - loss: 0.0309\n",
      "Epoch 25/100\n",
      "38/38 [==============================] - 0s 10ms/step - loss: 0.0328\n",
      "Epoch 26/100\n",
      "38/38 [==============================] - 0s 10ms/step - loss: 0.0389\n",
      "Epoch 27/100\n",
      "38/38 [==============================] - 0s 10ms/step - loss: 0.0248\n",
      "Epoch 28/100\n",
      "38/38 [==============================] - 0s 10ms/step - loss: 0.0314\n",
      "Epoch 29/100\n",
      "38/38 [==============================] - 0s 10ms/step - loss: 0.0376\n",
      "Epoch 30/100\n",
      "38/38 [==============================] - 0s 10ms/step - loss: 0.0412\n",
      "Epoch 31/100\n",
      "38/38 [==============================] - 0s 10ms/step - loss: 0.0354\n",
      "Epoch 32/100\n",
      "38/38 [==============================] - 0s 10ms/step - loss: 0.0270\n",
      "Epoch 33/100\n",
      "38/38 [==============================] - 0s 10ms/step - loss: 0.0343\n",
      "Epoch 34/100\n",
      "38/38 [==============================] - 0s 10ms/step - loss: 0.0374\n",
      "Epoch 35/100\n",
      "38/38 [==============================] - 0s 9ms/step - loss: 0.0257\n",
      "Epoch 36/100\n",
      "38/38 [==============================] - 0s 10ms/step - loss: 0.0371\n",
      "Epoch 37/100\n",
      "38/38 [==============================] - 0s 10ms/step - loss: 0.0372\n",
      "Epoch 38/100\n",
      "38/38 [==============================] - 0s 10ms/step - loss: 0.0341\n",
      "Epoch 39/100\n",
      "38/38 [==============================] - 0s 10ms/step - loss: 0.0345\n",
      "Epoch 40/100\n",
      "38/38 [==============================] - 0s 9ms/step - loss: 0.0324\n",
      "Epoch 41/100\n",
      "38/38 [==============================] - 0s 10ms/step - loss: 0.0381\n",
      "Epoch 42/100\n",
      "38/38 [==============================] - 0s 10ms/step - loss: 0.0334\n",
      "Epoch 43/100\n",
      "38/38 [==============================] - 0s 10ms/step - loss: 0.0300\n",
      "Epoch 44/100\n",
      "38/38 [==============================] - 0s 10ms/step - loss: 0.0336\n",
      "Epoch 45/100\n",
      "38/38 [==============================] - 0s 9ms/step - loss: 0.0325\n",
      "Epoch 46/100\n",
      "38/38 [==============================] - 0s 10ms/step - loss: 0.0449\n",
      "Epoch 47/100\n",
      "38/38 [==============================] - 0s 10ms/step - loss: 0.0342\n",
      "Epoch 48/100\n",
      "38/38 [==============================] - 0s 9ms/step - loss: 0.0226\n",
      "Epoch 49/100\n",
      "38/38 [==============================] - 0s 10ms/step - loss: 0.0309\n",
      "Epoch 50/100\n",
      "38/38 [==============================] - 0s 9ms/step - loss: 0.0299\n",
      "Epoch 51/100\n",
      "38/38 [==============================] - 0s 10ms/step - loss: 0.0299\n",
      "Epoch 52/100\n",
      "38/38 [==============================] - 0s 10ms/step - loss: 0.0298\n",
      "Epoch 53/100\n",
      "38/38 [==============================] - 0s 10ms/step - loss: 0.0289\n",
      "Epoch 54/100\n",
      "38/38 [==============================] - 0s 10ms/step - loss: 0.0351\n",
      "Epoch 55/100\n",
      "38/38 [==============================] - 0s 10ms/step - loss: 0.0261\n",
      "Epoch 56/100\n",
      "38/38 [==============================] - 0s 10ms/step - loss: 0.0289\n",
      "Epoch 57/100\n",
      "38/38 [==============================] - 0s 9ms/step - loss: 0.0284\n",
      "Epoch 58/100\n",
      "38/38 [==============================] - 0s 10ms/step - loss: 0.0253\n",
      "Epoch 59/100\n",
      "38/38 [==============================] - 0s 10ms/step - loss: 0.0422\n",
      "Epoch 60/100\n",
      "38/38 [==============================] - 0s 9ms/step - loss: 0.0346\n",
      "Epoch 61/100\n",
      "38/38 [==============================] - 0s 10ms/step - loss: 0.0354\n",
      "Epoch 62/100\n",
      "38/38 [==============================] - 0s 9ms/step - loss: 0.0474\n",
      "Epoch 63/100\n",
      "38/38 [==============================] - 0s 10ms/step - loss: 0.0262\n",
      "Epoch 64/100\n",
      "38/38 [==============================] - 0s 10ms/step - loss: 0.0330\n",
      "Epoch 65/100\n",
      "38/38 [==============================] - 0s 10ms/step - loss: 0.0327\n",
      "Epoch 66/100\n",
      "38/38 [==============================] - 0s 10ms/step - loss: 0.0344\n",
      "Epoch 67/100\n",
      "38/38 [==============================] - 0s 10ms/step - loss: 0.0309\n",
      "Epoch 68/100\n",
      "38/38 [==============================] - 0s 9ms/step - loss: 0.0282\n",
      "Epoch 69/100\n",
      "38/38 [==============================] - 0s 10ms/step - loss: 0.0370\n",
      "Epoch 70/100\n",
      "38/38 [==============================] - 0s 9ms/step - loss: 0.0382\n",
      "Epoch 71/100\n",
      "38/38 [==============================] - 0s 10ms/step - loss: 0.0279\n",
      "Epoch 72/100\n",
      "38/38 [==============================] - 0s 9ms/step - loss: 0.0294\n",
      "Epoch 73/100\n",
      "38/38 [==============================] - 0s 10ms/step - loss: 0.0283\n",
      "Epoch 74/100\n",
      "38/38 [==============================] - 0s 9ms/step - loss: 0.0304\n",
      "Epoch 75/100\n",
      "38/38 [==============================] - 0s 10ms/step - loss: 0.0331\n",
      "Epoch 76/100\n",
      "38/38 [==============================] - 0s 9ms/step - loss: 0.0301\n",
      "Epoch 77/100\n",
      "38/38 [==============================] - 0s 9ms/step - loss: 0.0338\n",
      "Epoch 78/100\n",
      "38/38 [==============================] - 0s 10ms/step - loss: 0.0349\n",
      "Epoch 79/100\n",
      "38/38 [==============================] - 0s 10ms/step - loss: 0.0342\n",
      "Epoch 80/100\n",
      "38/38 [==============================] - 0s 10ms/step - loss: 0.0244\n",
      "Epoch 81/100\n",
      "38/38 [==============================] - 0s 10ms/step - loss: 0.0295\n",
      "Epoch 82/100\n",
      "38/38 [==============================] - 0s 9ms/step - loss: 0.0339\n",
      "Epoch 83/100\n",
      "38/38 [==============================] - 0s 9ms/step - loss: 0.0259\n",
      "Epoch 84/100\n",
      "38/38 [==============================] - 0s 9ms/step - loss: 0.0278\n",
      "Epoch 85/100\n",
      "38/38 [==============================] - 0s 9ms/step - loss: 0.0287\n",
      "Epoch 86/100\n",
      "38/38 [==============================] - 0s 10ms/step - loss: 0.0351\n",
      "Epoch 87/100\n",
      "38/38 [==============================] - 0s 9ms/step - loss: 0.0243\n",
      "Epoch 88/100\n",
      "38/38 [==============================] - 0s 10ms/step - loss: 0.0353\n",
      "Epoch 89/100\n",
      "38/38 [==============================] - 0s 10ms/step - loss: 0.0309\n",
      "Epoch 90/100\n",
      "38/38 [==============================] - 0s 10ms/step - loss: 0.0321\n",
      "Epoch 91/100\n",
      "38/38 [==============================] - 0s 10ms/step - loss: 0.0404\n",
      "Epoch 92/100\n",
      "38/38 [==============================] - 0s 9ms/step - loss: 0.0312\n",
      "Epoch 93/100\n",
      "38/38 [==============================] - 0s 10ms/step - loss: 0.0311\n",
      "Epoch 94/100\n",
      "38/38 [==============================] - 0s 9ms/step - loss: 0.0386\n",
      "Epoch 95/100\n",
      "38/38 [==============================] - 0s 9ms/step - loss: 0.0409\n",
      "Epoch 96/100\n",
      "38/38 [==============================] - 0s 10ms/step - loss: 0.0254\n",
      "Epoch 97/100\n",
      "38/38 [==============================] - 0s 9ms/step - loss: 0.0310\n",
      "Epoch 98/100\n",
      "38/38 [==============================] - 0s 9ms/step - loss: 0.0324\n",
      "Epoch 99/100\n",
      "38/38 [==============================] - 0s 9ms/step - loss: 0.0317\n",
      "Epoch 100/100\n",
      "38/38 [==============================] - 0s 9ms/step - loss: 0.0316\n"
     ]
    },
    {
     "data": {
      "text/plain": [
       "<keras.callbacks.History at 0x7f34f8b4dfd0>"
      ]
     },
     "execution_count": 19,
     "metadata": {
      "tags": []
     },
     "output_type": "execute_result"
    }
   ],
   "source": [
    "regressor = Sequential()\n",
    "\n",
    "# Adding the first LSTM layer and some Dropout regularisation\n",
    "regressor.add(LSTM(units = 50, return_sequences = True, input_shape = (X_train.shape[1], 1)))\n",
    "regressor.add(Dropout(0.2))\n",
    "\n",
    "# Adding a second LSTM layer and some Dropout regularisation\n",
    "regressor.add(LSTM(units = 50, return_sequences = True))\n",
    "regressor.add(Dropout(0.2))\n",
    "\n",
    "# Adding a third LSTM layer and some Dropout regularisation\n",
    "regressor.add(LSTM(units = 50, return_sequences = True))\n",
    "regressor.add(Dropout(0.2))\n",
    "\n",
    "# Adding a fourth LSTM layer and some Dropout regularisation\n",
    "regressor.add(LSTM(units = 50))\n",
    "regressor.add(Dropout(0.2))\n",
    "\n",
    "# Adding the output layer\n",
    "regressor.add(Dense(units = 1))\n",
    "\n",
    "# Compiling the RNN\n",
    "regressor.compile(optimizer = 'adam', loss = 'mean_squared_error')\n",
    "\n",
    "# Fitting the RNN to the Training set\n",
    "regressor.fit(X_train, y_train, epochs = 100, batch_size = 32)\n",
    "\n"
   ]
  },
  {
   "cell_type": "code",
   "execution_count": null,
   "metadata": {
    "colab": {},
    "colab_type": "code",
    "id": "eqY8upkvV0mp"
   },
   "outputs": [],
   "source": [
    "dataset_test = pd.read_csv('/content/drive/My Drive/SIH-2020/BazpurRiceTest.csv')\n",
    "real_stock_price = dataset_test.iloc[:, 1:2].values\n",
    "\n",
    "# Getting the predicted stock price of 2017\n",
    "dataset_total = pd.concat((data['Price'], dataset_test['Price']), axis = 0)\n",
    "inputs = dataset_total[len(dataset_total) - len(dataset_test) - 60:].values\n",
    "inputs = inputs.reshape(-1,1)\n",
    "inputs = sc.transform(inputs)\n",
    "X_test = []\n",
    "for i in range(60, 80):\n",
    "    X_test.append(inputs[i-60:i, 0])\n",
    "X_test = np.array(X_test)\n",
    "X_test = np.reshape(X_test, (X_test.shape[0], X_test.shape[1], 1))\n",
    "predicted_stock_price = regressor.predict(X_test)\n",
    "predicted_stock_price = sc.inverse_transform(predicted_stock_price)"
   ]
  },
  {
   "cell_type": "code",
   "execution_count": null,
   "metadata": {
    "colab": {
     "base_uri": "https://localhost:8080/",
     "height": 353
    },
    "colab_type": "code",
    "id": "5XbpDchFh4sD",
    "outputId": "132aa921-dfd8-48a5-87d1-98db116f457c"
   },
   "outputs": [
    {
     "data": {
      "text/plain": [
       "array([[2437.7234],\n",
       "       [2440.706 ],\n",
       "       [2442.793 ],\n",
       "       [2443.9604],\n",
       "       [2444.2468],\n",
       "       [2443.737 ],\n",
       "       [2442.5483],\n",
       "       [2440.8093],\n",
       "       [2438.652 ],\n",
       "       [2436.2017],\n",
       "       [2433.696 ],\n",
       "       [2431.2373],\n",
       "       [2428.8687],\n",
       "       [2426.6052],\n",
       "       [2424.4504],\n",
       "       [2422.407 ],\n",
       "       [2420.6   ],\n",
       "       [2419.036 ],\n",
       "       [2417.679 ],\n",
       "       [2416.4814]], dtype=float32)"
      ]
     },
     "execution_count": 21,
     "metadata": {
      "tags": []
     },
     "output_type": "execute_result"
    }
   ],
   "source": [
    "predicted_stock_price"
   ]
  },
  {
   "cell_type": "code",
   "execution_count": null,
   "metadata": {
    "colab": {
     "base_uri": "https://localhost:8080/",
     "height": 639
    },
    "colab_type": "code",
    "id": "GPWaVTRdYzY-",
    "outputId": "17414bed-cf34-40f8-f36b-cffbc5a9fa38"
   },
   "outputs": [
    {
     "data": {
      "text/html": [
       "<div>\n",
       "<style scoped>\n",
       "    .dataframe tbody tr th:only-of-type {\n",
       "        vertical-align: middle;\n",
       "    }\n",
       "\n",
       "    .dataframe tbody tr th {\n",
       "        vertical-align: top;\n",
       "    }\n",
       "\n",
       "    .dataframe thead th {\n",
       "        text-align: right;\n",
       "    }\n",
       "</style>\n",
       "<table border=\"1\" class=\"dataframe\">\n",
       "  <thead>\n",
       "    <tr style=\"text-align: right;\">\n",
       "      <th></th>\n",
       "      <th>0</th>\n",
       "    </tr>\n",
       "  </thead>\n",
       "  <tbody>\n",
       "    <tr>\n",
       "      <th>0</th>\n",
       "      <td>2437.723389</td>\n",
       "    </tr>\n",
       "    <tr>\n",
       "      <th>1</th>\n",
       "      <td>2440.706055</td>\n",
       "    </tr>\n",
       "    <tr>\n",
       "      <th>2</th>\n",
       "      <td>2442.792969</td>\n",
       "    </tr>\n",
       "    <tr>\n",
       "      <th>3</th>\n",
       "      <td>2443.960449</td>\n",
       "    </tr>\n",
       "    <tr>\n",
       "      <th>4</th>\n",
       "      <td>2444.246826</td>\n",
       "    </tr>\n",
       "    <tr>\n",
       "      <th>5</th>\n",
       "      <td>2443.737061</td>\n",
       "    </tr>\n",
       "    <tr>\n",
       "      <th>6</th>\n",
       "      <td>2442.548340</td>\n",
       "    </tr>\n",
       "    <tr>\n",
       "      <th>7</th>\n",
       "      <td>2440.809326</td>\n",
       "    </tr>\n",
       "    <tr>\n",
       "      <th>8</th>\n",
       "      <td>2438.652100</td>\n",
       "    </tr>\n",
       "    <tr>\n",
       "      <th>9</th>\n",
       "      <td>2436.201660</td>\n",
       "    </tr>\n",
       "    <tr>\n",
       "      <th>10</th>\n",
       "      <td>2433.696045</td>\n",
       "    </tr>\n",
       "    <tr>\n",
       "      <th>11</th>\n",
       "      <td>2431.237305</td>\n",
       "    </tr>\n",
       "    <tr>\n",
       "      <th>12</th>\n",
       "      <td>2428.868652</td>\n",
       "    </tr>\n",
       "    <tr>\n",
       "      <th>13</th>\n",
       "      <td>2426.605225</td>\n",
       "    </tr>\n",
       "    <tr>\n",
       "      <th>14</th>\n",
       "      <td>2424.450439</td>\n",
       "    </tr>\n",
       "    <tr>\n",
       "      <th>15</th>\n",
       "      <td>2422.406982</td>\n",
       "    </tr>\n",
       "    <tr>\n",
       "      <th>16</th>\n",
       "      <td>2420.600098</td>\n",
       "    </tr>\n",
       "    <tr>\n",
       "      <th>17</th>\n",
       "      <td>2419.035889</td>\n",
       "    </tr>\n",
       "    <tr>\n",
       "      <th>18</th>\n",
       "      <td>2417.678955</td>\n",
       "    </tr>\n",
       "    <tr>\n",
       "      <th>19</th>\n",
       "      <td>2416.481445</td>\n",
       "    </tr>\n",
       "  </tbody>\n",
       "</table>\n",
       "</div>"
      ],
      "text/plain": [
       "              0\n",
       "0   2437.723389\n",
       "1   2440.706055\n",
       "2   2442.792969\n",
       "3   2443.960449\n",
       "4   2444.246826\n",
       "5   2443.737061\n",
       "6   2442.548340\n",
       "7   2440.809326\n",
       "8   2438.652100\n",
       "9   2436.201660\n",
       "10  2433.696045\n",
       "11  2431.237305\n",
       "12  2428.868652\n",
       "13  2426.605225\n",
       "14  2424.450439\n",
       "15  2422.406982\n",
       "16  2420.600098\n",
       "17  2419.035889\n",
       "18  2417.678955\n",
       "19  2416.481445"
      ]
     },
     "execution_count": 22,
     "metadata": {
      "tags": []
     },
     "output_type": "execute_result"
    }
   ],
   "source": [
    "sp = pd.DataFrame(predicted_stock_price)\n",
    "sp"
   ]
  },
  {
   "cell_type": "markdown",
   "metadata": {
    "colab_type": "text",
    "id": "6YSr8Pz3Y-Ms"
   },
   "source": [
    "plt.plot(real_stock_price, color = 'red', label = 'Real Google Stock Price')\n",
    "plt.plot(predicted_stock_price, color = 'blue', label = 'Predicted Google Stock Price')\n",
    "plt.title('Google Stock Price Prediction')\n",
    "plt.xlabel('Time')\n",
    "plt.ylabel('Google Stock Price')\n",
    "plt.legend()\n",
    "plt.show()"
   ]
  },
  {
   "cell_type": "code",
   "execution_count": null,
   "metadata": {
    "colab": {},
    "colab_type": "code",
    "id": "L92KMwuUZEoE"
   },
   "outputs": [],
   "source": [
    "sp.to_csv('rice.csv',index=False)"
   ]
  },
  {
   "cell_type": "code",
   "execution_count": null,
   "metadata": {
    "colab": {},
    "colab_type": "code",
    "id": "aNNT7BAWiAD8"
   },
   "outputs": [],
   "source": []
  }
 ],
 "metadata": {
  "colab": {
   "name": "Bazpur.ipynb",
   "provenance": [],
   "toc_visible": true
  },
  "kernelspec": {
   "display_name": "Python 3",
   "language": "python",
   "name": "python3"
  },
  "language_info": {
   "codemirror_mode": {
    "name": "ipython",
    "version": 3
   },
   "file_extension": ".py",
   "mimetype": "text/x-python",
   "name": "python",
   "nbconvert_exporter": "python",
   "pygments_lexer": "ipython3",
   "version": "3.6.5"
  }
 },
 "nbformat": 4,
 "nbformat_minor": 1
}
